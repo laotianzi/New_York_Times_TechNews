{
 "cells": [
  {
   "cell_type": "markdown",
   "metadata": {
    "collapsed": true
   },
   "source": [
    "# Project 4 Fletcher\n",
    "## Part 1 Getting data from New York Times API and store in MongoDB\n",
    "\n",
    "### Explored frontier technology news in decades from New York Times API. Applied unsupervised machine learning methods to cluster different topics in tech news and compared the popular fields in time series.\n",
    "\n",
    "\n",
    "Technology Trend in New York Times: rest API | NLP | LDA | Word2Vec | PCA | Clustering | MongoDB\n",
    "<br>\n",
    "• Summarized top topics from frontier technology news in 1945-2017 using New York Times API.\n",
    "<br>\n",
    "• Extracted public relationship network of aimed company from mass data.\n"
   ]
  },
  {
   "cell_type": "markdown",
   "metadata": {},
   "source": [
    "## I. Get documents from New York Times API and store them in MongoDB."
   ]
  },
  {
   "cell_type": "code",
   "execution_count": 6,
   "metadata": {
    "collapsed": true
   },
   "outputs": [],
   "source": [
    "import pandas as pd\n",
    "import requests\n",
    "import numpy as np\n",
    "import pickle\n",
    "from pymongo import MongoClient"
   ]
  },
  {
   "cell_type": "code",
   "execution_count": 8,
   "metadata": {
    "collapsed": true
   },
   "outputs": [],
   "source": [
    "# Get the format of New York Times API daily documents, which is url with month and year.\n",
    "# Create a list of urls.\n",
    "urls = []\n",
    "for i in range(1945,2017):\n",
    "    for j in range(12):\n",
    "        urls.append(\"https://api.nytimes.com/svc/archive/v1/{}/{}.json?api-key=7a4c175703c34278bec1f09151e97670\".format(i,j+1))"
   ]
  },
  {
   "cell_type": "code",
   "execution_count": 5,
   "metadata": {},
   "outputs": [
    {
     "name": "stdout",
     "output_type": "stream",
     "text": [
      "https://api.nytimes.com/svc/archive/v1/2003/10.json?api-key=7a4c175703c34278bec1f09151e97670\n"
     ]
    }
   ],
   "source": [
    "# Scraping data from New York Times API.\n",
    "# Report error with the url not responding.\n",
    "archives=[]\n",
    "for i in range(len(urls)):\n",
    "    try:        \n",
    "        response = requests.get(urls[i])\n",
    "        archives.append(response.json())\n",
    "    except:\n",
    "        print(urls[i])\n",
    "        continue"
   ]
  },
  {
   "cell_type": "code",
   "execution_count": 17,
   "metadata": {},
   "outputs": [
    {
     "data": {
      "text/plain": [
       "851"
      ]
     },
     "execution_count": 17,
     "metadata": {},
     "output_type": "execute_result"
    }
   ],
   "source": [
    "len(archives)"
   ]
  },
  {
   "cell_type": "code",
   "execution_count": 23,
   "metadata": {},
   "outputs": [
    {
     "name": "stdout",
     "output_type": "stream",
     "text": [
      "dict_keys(['copyright', 'response'])\n"
     ]
    }
   ],
   "source": [
    "import pprint\n",
    "type(archives[0])\n",
    "pprint.pprint(archives[0].keys())"
   ]
  },
  {
   "cell_type": "code",
   "execution_count": 2,
   "metadata": {},
   "outputs": [],
   "source": [
    "# archives[0]['response']['docs'][0]\n",
    "\n",
    "# output:\n",
    "#     {'_id': '4fc2249a45c1498b0d62da34',\n",
    "#   'abstract': 'Greenwich St, 80: factory destroyed',\n",
    "#   'blog': [],\n",
    "#   'byline': None,\n",
    "#   'document_type': 'article',\n",
    "#   'headline': {'main': 'BLAZE ROUTS CELEBRANTS; Celluloid Factory Is Destroyed in Greenwich Street Fire'},\n",
    "#   'keywords': [{'name': 'glocations', 'value': 'NEW YORK CITY'},\n",
    "#    {'name': 'subject', 'value': 'FIRES'}],\n",
    "#   'lead_paragraph': None,\n",
    "#   'multimedia': [],\n",
    "#   'news_desk': None,\n",
    "#   'print_page': '5',\n",
    "#   'pub_date': '1945-01-01T00:00:00Z',\n",
    "#   'section_name': None,\n",
    "#   'slideshow_credits': None,\n",
    "#   'snippet': 'Greenwich St, 80: factory destroyed...',\n",
    "#   'source': 'The New York Times',\n",
    "#   'subsection_name': None,\n",
    "#   'type_of_material': 'Article',\n",
    "#   'web_url': 'https://query.nytimes.com/gst/abstract.html?res=9806EFDE1F39E73ABC4953DFB766838E659EDE',\n",
    "#   'word_count': 155}"
   ]
  },
  {
   "cell_type": "code",
   "execution_count": 18,
   "metadata": {
    "collapsed": true
   },
   "outputs": [],
   "source": [
    "import json\n",
    "from pymongo import MongoClient"
   ]
  },
  {
   "cell_type": "code",
   "execution_count": 19,
   "metadata": {
    "collapsed": true
   },
   "outputs": [],
   "source": [
    "client = MongoClient()\n",
    "db = client.whatsnewtech"
   ]
  },
  {
   "cell_type": "code",
   "execution_count": 63,
   "metadata": {
    "collapsed": true
   },
   "outputs": [],
   "source": [
    "db.docs.drop()"
   ]
  },
  {
   "cell_type": "code",
   "execution_count": 4,
   "metadata": {},
   "outputs": [],
   "source": [
    "# report error when processing data acquiring. \n",
    "# write every document into mongoDB whatsnewtech.\n",
    "\n",
    "for i in range(len(archives)):\n",
    "    #tracking the proces\n",
    "    if (i%100 == 0):\n",
    "        print('i',i)\n",
    "    try:\n",
    "        ds = archives[i]['response']['docs']\n",
    "    except KeyError:\n",
    "        print('KeyError:',i)\n",
    "        continue\n",
    "        \n",
    "    for j in range(len(ds)):\n",
    "        if (j%1000 == 0):\n",
    "            print('j:', j)\n",
    "        try:\n",
    "            del ds[j]['_id']\n",
    "        except KeyError:\n",
    "            pass\n",
    "        db.docs.insert_one(ds[j])   "
   ]
  },
  {
   "cell_type": "code",
   "execution_count": 9,
   "metadata": {},
   "outputs": [
    {
     "data": {
      "text/plain": [
       "{'_id': ObjectId('5990a6acb2537ab75562a89b'),\n",
       " 'abstract': 'Greenwich St, 80: factory destroyed',\n",
       " 'blog': [],\n",
       " 'byline': None,\n",
       " 'document_type': 'article',\n",
       " 'headline': {'main': 'BLAZE ROUTS CELEBRANTS; Celluloid Factory Is Destroyed in Greenwich Street Fire'},\n",
       " 'keywords': [{'name': 'glocations', 'value': 'NEW YORK CITY'},\n",
       "  {'name': 'subject', 'value': 'FIRES'}],\n",
       " 'lead_paragraph': None,\n",
       " 'multimedia': [],\n",
       " 'news_desk': None,\n",
       " 'print_page': '5',\n",
       " 'pub_date': '1945-01-01T00:00:00Z',\n",
       " 'section_name': None,\n",
       " 'slideshow_credits': None,\n",
       " 'snippet': 'Greenwich St, 80: factory destroyed...',\n",
       " 'source': 'The New York Times',\n",
       " 'subsection_name': None,\n",
       " 'type_of_material': 'Article',\n",
       " 'web_url': 'https://query.nytimes.com/gst/abstract.html?res=9806EFDE1F39E73ABC4953DFB766838E659EDE',\n",
       " 'word_count': 155}"
      ]
     },
     "execution_count": 9,
     "metadata": {},
     "output_type": "execute_result"
    }
   ],
   "source": [
    "db.docs.find_one()"
   ]
  }
 ],
 "metadata": {
  "kernelspec": {
   "display_name": "Python 3",
   "language": "python",
   "name": "python3"
  },
  "language_info": {
   "codemirror_mode": {
    "name": "ipython",
    "version": 3
   },
   "file_extension": ".py",
   "mimetype": "text/x-python",
   "name": "python",
   "nbconvert_exporter": "python",
   "pygments_lexer": "ipython3",
   "version": "3.6.1"
  }
 },
 "nbformat": 4,
 "nbformat_minor": 2
}
